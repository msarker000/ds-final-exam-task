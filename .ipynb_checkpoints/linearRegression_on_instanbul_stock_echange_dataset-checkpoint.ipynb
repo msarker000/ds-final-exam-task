{
 "cells": [
  {
   "cell_type": "code",
   "execution_count": 61,
   "metadata": {},
   "outputs": [],
   "source": [
    "import pandas as pd\n",
    "import numpy as np\n",
    "import matplotlib.pyplot as plt   #Data visualisation libraries \n",
    "import seaborn as sns\n",
    "from sklearn.linear_model import LinearRegression\n",
    "from sklearn.cross_validation import train_test_split\n",
    "%matplotlib inline\n"
   ]
  },
  {
   "cell_type": "code",
   "execution_count": 62,
   "metadata": {},
   "outputs": [
    {
     "name": "stdout",
     "output_type": "stream",
     "text": [
      "<class 'pandas.core.frame.DataFrame'>\n",
      "RangeIndex: 536 entries, 0 to 535\n",
      "Data columns (total 9 columns):\n",
      "TL_BASED_ISE     536 non-null float64\n",
      "USD_BASED_ISE    536 non-null float64\n",
      "SP               536 non-null float64\n",
      "DAX              536 non-null float64\n",
      "FTSE             536 non-null float64\n",
      "NIKKEI           536 non-null float64\n",
      "BOVESPA          536 non-null float64\n",
      "EU               536 non-null float64\n",
      "EM               536 non-null float64\n",
      "dtypes: float64(9)\n",
      "memory usage: 37.8 KB\n"
     ]
    }
   ],
   "source": [
    "#read excep file\n",
    "data = pd.read_excel('dataset/data_akbilgic.xlsx', header=1)\n",
    "data = data.rename(columns={'ISE': 'TL_BASED_ISE', 'ISE.1': 'USD_BASED_ISE'})\n",
    "data = data.drop('date', axis=1)\n",
    "data.info()"
   ]
  },
  {
   "cell_type": "markdown",
   "metadata": {},
   "source": [
    "# Find the relationship between features"
   ]
  },
  {
   "cell_type": "code",
   "execution_count": 63,
   "metadata": {},
   "outputs": [
    {
     "name": "stdout",
     "output_type": "stream",
     "text": [
      "estimated intercepted coefficients: -0.00046676937623867597\n",
      "number of coefficients: 8\n"
     ]
    },
    {
     "data": {
      "text/html": [
       "<div>\n",
       "<style scoped>\n",
       "    .dataframe tbody tr th:only-of-type {\n",
       "        vertical-align: middle;\n",
       "    }\n",
       "\n",
       "    .dataframe tbody tr th {\n",
       "        vertical-align: top;\n",
       "    }\n",
       "\n",
       "    .dataframe thead th {\n",
       "        text-align: right;\n",
       "    }\n",
       "</style>\n",
       "<table border=\"1\" class=\"dataframe\">\n",
       "  <thead>\n",
       "    <tr style=\"text-align: right;\">\n",
       "      <th></th>\n",
       "      <th>features</th>\n",
       "      <th>estimatedcoefficient</th>\n",
       "    </tr>\n",
       "  </thead>\n",
       "  <tbody>\n",
       "    <tr>\n",
       "      <th>0</th>\n",
       "      <td>TL_BASED_ISE</td>\n",
       "      <td>1.047465</td>\n",
       "    </tr>\n",
       "    <tr>\n",
       "      <th>1</th>\n",
       "      <td>SP</td>\n",
       "      <td>0.036071</td>\n",
       "    </tr>\n",
       "    <tr>\n",
       "      <th>2</th>\n",
       "      <td>DAX</td>\n",
       "      <td>-0.106571</td>\n",
       "    </tr>\n",
       "    <tr>\n",
       "      <th>3</th>\n",
       "      <td>FTSE</td>\n",
       "      <td>-0.152659</td>\n",
       "    </tr>\n",
       "    <tr>\n",
       "      <th>4</th>\n",
       "      <td>NIKKEI</td>\n",
       "      <td>0.103193</td>\n",
       "    </tr>\n",
       "    <tr>\n",
       "      <th>5</th>\n",
       "      <td>BOVESPA</td>\n",
       "      <td>-0.127844</td>\n",
       "    </tr>\n",
       "    <tr>\n",
       "      <th>6</th>\n",
       "      <td>EU</td>\n",
       "      <td>0.314800</td>\n",
       "    </tr>\n",
       "    <tr>\n",
       "      <th>7</th>\n",
       "      <td>EM</td>\n",
       "      <td>0.410283</td>\n",
       "    </tr>\n",
       "  </tbody>\n",
       "</table>\n",
       "</div>"
      ],
      "text/plain": [
       "       features  estimatedcoefficient\n",
       "0  TL_BASED_ISE              1.047465\n",
       "1            SP              0.036071\n",
       "2           DAX             -0.106571\n",
       "3          FTSE             -0.152659\n",
       "4        NIKKEI              0.103193\n",
       "5       BOVESPA             -0.127844\n",
       "6            EU              0.314800\n",
       "7            EM              0.410283"
      ]
     },
     "execution_count": 63,
     "metadata": {},
     "output_type": "execute_result"
    }
   ],
   "source": [
    "# we will set our model to predict used_based_ise \n",
    "X=data.drop('USD_BASED_ISE', axis=1)\n",
    "y=data.USD_BASED_ISE\n",
    "\n",
    "lm = LinearRegression()\n",
    "lm.fit(X,y)\n",
    "\n",
    "print('estimated intercepted coefficients:', lm.intercept_)\n",
    "print ('number of coefficients:', len(lm.coef_))\n",
    "\n",
    "df = pd.DataFrame(list(zip(X.columns,lm.coef_)), columns=['features','estimatedcoefficient'])\n",
    "df"
   ]
  },
  {
   "cell_type": "code",
   "execution_count": 64,
   "metadata": {},
   "outputs": [
    {
     "data": {
      "image/png": "[encoded data removed]",
      "text/plain": [
       "<Figure size 432x288 with 1 Axes>"
      ]
     },
     "metadata": {},
     "output_type": "display_data"
    }
   ],
   "source": [
    "# So in above data we can see that there is high correlation between TL_BASED_ISE and USD_BASED_ISE\n",
    "plt.scatter(data.TL_BASED_ISE, data.USD_BASED_ISE)\n",
    "plt.ylabel('usd based ise index')\n",
    "plt.xlabel('TL based ise index')\n",
    "plt.title('Relationship between used and tl base ise index')\n",
    "plt.show()"
   ]
  },
  {
   "cell_type": "markdown",
   "metadata": {},
   "source": [
    "# Predictive analysis by train test split"
   ]
  },
  {
   "cell_type": "code",
   "execution_count": 70,
   "metadata": {},
   "outputs": [
    {
     "name": "stdout",
     "output_type": "stream",
     "text": [
      "(359, 8)\n",
      "(177, 8)\n",
      "(359,)\n",
      "(177,)\n"
     ]
    }
   ],
   "source": [
    "X_train, X_test, y_train, y_test= train_test_split(X, y, test_size=0.33, random_state=33)\n",
    "\n",
    "print(X_train.shape)\n",
    "print(X_test.shape)\n",
    "print(y_train.shape)\n",
    "print(y_test.shape)"
   ]
  },
  {
   "cell_type": "code",
   "execution_count": 80,
   "metadata": {},
   "outputs": [
    {
     "name": "stdout",
     "output_type": "stream",
     "text": [
      "means square error:  4.0436643802628556e-05\n"
     ]
    }
   ],
   "source": [
    "from sklearn.metrics import mean_squared_error\n",
    "\n",
    "lm = LinearRegression()\n",
    "lm.fit(X_train, y_train)\n",
    "\n",
    "y_train_pred = lm.predict(X_train)\n",
    "y_test_pred = lm.predict(X_test)\n",
    "\n",
    "print(\"means square error: \", mean_squared_error(y_test, y_test_pred))"
   ]
  },
  {
   "cell_type": "code",
   "execution_count": 84,
   "metadata": {},
   "outputs": [
    {
     "data": {
      "image/png": "[encoded data removed]",
      "text/plain": [
       "<Figure size 432x288 with 1 Axes>"
      ]
     },
     "metadata": {},
     "output_type": "display_data"
    }
   ],
   "source": [
    "# plot  train and pred train\n",
    "plt.scatter(y_train, y_train_pred)\n",
    "plt.title('y_train and y_train_pred')\n",
    "plt.xlabel('USD_BASED_ISE')\n",
    "plt.ylabel('predicted USD_BASED_ISE')\n",
    "plt.show()"
   ]
  },
  {
   "cell_type": "code",
   "execution_count": 85,
   "metadata": {},
   "outputs": [
    {
     "data": {
      "image/png": "[encoded data removed]",
      "text/plain": [
       "<Figure size 432x288 with 1 Axes>"
      ]
     },
     "metadata": {},
     "output_type": "display_data"
    }
   ],
   "source": [
    "# plot test vs predicted test\n",
    "plt.scatter(y_test, y_test_pred)\n",
    "plt.title('y_test and y_test_pred')\n",
    "plt.xlabel('USD_BASED_ISE')\n",
    "plt.ylabel('predicted USD_BASED_ISE')\n",
    "plt.show()"
   ]
  },
  {
   "cell_type": "markdown",
   "metadata": {},
   "source": [
    "It does look like the predicted price and the actual price are related so the multi-linear regressionis usefull. The spread for each observed value is somewhat wide but there is a relationship. "
   ]
  }
 ],
 "metadata": {
  "kernelspec": {
   "display_name": "Python 3",
   "language": "python",
   "name": "python3"
  },
  "language_info": {
   "codemirror_mode": {
    "name": "ipython",
    "version": 3
   },
   "file_extension": ".py",
   "mimetype": "text/x-python",
   "name": "python",
   "nbconvert_exporter": "python",
   "pygments_lexer": "ipython3",
   "version": "3.6.5"
  }
 },
 "nbformat": 4,
 "nbformat_minor": 2
}
